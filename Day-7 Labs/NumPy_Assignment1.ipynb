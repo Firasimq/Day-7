{
 "cells": [
  {
   "cell_type": "code",
   "id": "212fd1ba",
   "metadata": {
    "ExecuteTime": {
     "end_time": "2024-07-30T02:53:42.796227Z",
     "start_time": "2024-07-30T02:53:42.777661Z"
    }
   },
   "source": [
    "import numpy as np\n",
    "import random"
   ],
   "outputs": [],
   "execution_count": 14
  },
  {
   "cell_type": "markdown",
   "id": "10803eb0",
   "metadata": {},
   "source": [
    "## Q#1: Create x array with elements equal to 1."
   ]
  },
  {
   "cell_type": "code",
   "id": "3307454f",
   "metadata": {
    "ExecuteTime": {
     "end_time": "2024-07-30T02:45:44.916202Z",
     "start_time": "2024-07-30T02:45:44.899673Z"
    }
   },
   "source": [
    "# write your code here ^_^\n",
    "x = np.ones(5)\n",
    "x"
   ],
   "outputs": [
    {
     "data": {
      "text/plain": [
       "array([1., 1., 1., 1., 1.])"
      ]
     },
     "execution_count": 4,
     "metadata": {},
     "output_type": "execute_result"
    }
   ],
   "execution_count": 4
  },
  {
   "cell_type": "markdown",
   "id": "7795306d",
   "metadata": {},
   "source": [
    "## Q#2: Create y array with elements equal to 0."
   ]
  },
  {
   "cell_type": "code",
   "id": "9550b063",
   "metadata": {
    "ExecuteTime": {
     "end_time": "2024-07-30T02:46:21.486288Z",
     "start_time": "2024-07-30T02:46:21.477165Z"
    }
   },
   "source": [
    "# write your code here ^_^\n",
    "y = np.zeros(5)\n",
    "y"
   ],
   "outputs": [
    {
     "data": {
      "text/plain": [
       "array([0., 0., 0., 0., 0.])"
      ]
     },
     "execution_count": 5,
     "metadata": {},
     "output_type": "execute_result"
    }
   ],
   "execution_count": 5
  },
  {
   "cell_type": "markdown",
   "id": "cde6a939",
   "metadata": {},
   "source": [
    "## Q#3: Add x and y arrays."
   ]
  },
  {
   "cell_type": "code",
   "id": "71070d1d",
   "metadata": {
    "ExecuteTime": {
     "end_time": "2024-07-30T02:46:34.554545Z",
     "start_time": "2024-07-30T02:46:34.547263Z"
    }
   },
   "source": [
    "# write your code here ^_^\n",
    "x+y"
   ],
   "outputs": [
    {
     "data": {
      "text/plain": [
       "array([1., 1., 1., 1., 1.])"
      ]
     },
     "execution_count": 6,
     "metadata": {},
     "output_type": "execute_result"
    }
   ],
   "execution_count": 6
  },
  {
   "cell_type": "markdown",
   "id": "ed854f4c",
   "metadata": {},
   "source": [
    "## Q#4: Print x array characteristics (e.g: dimension, shape, size, type)."
   ]
  },
  {
   "cell_type": "code",
   "id": "32627c83",
   "metadata": {
    "ExecuteTime": {
     "end_time": "2024-07-30T02:48:09.367150Z",
     "start_time": "2024-07-30T02:48:09.353691Z"
    }
   },
   "source": [
    "# write your code here ^_^\n",
    "x.shape\n",
    "x.ndim\n",
    "x.size\n",
    "x.dtype"
   ],
   "outputs": [
    {
     "data": {
      "text/plain": [
       "dtype('float64')"
      ]
     },
     "execution_count": 10,
     "metadata": {},
     "output_type": "execute_result"
    }
   ],
   "execution_count": 10
  },
  {
   "cell_type": "markdown",
   "id": "dbd46a73",
   "metadata": {},
   "source": [
    "## Q#5: Create a 2D array \"called w\" as the following:\n",
    "\n",
    "|       |          |\n",
    "| ----- | -------- |\n",
    "| 11    | 12       |\n",
    "| 13    | 14       |\n",
    "| 15    | 16       |\n"
   ]
  },
  {
   "cell_type": "code",
   "id": "b9c7bbb0",
   "metadata": {
    "ExecuteTime": {
     "end_time": "2024-07-30T02:52:25.934832Z",
     "start_time": "2024-07-30T02:52:25.918410Z"
    }
   },
   "source": [
    "# write your code here ^_^\n",
    "w = np.array([[11,12], [13,14], [15,16]])\n",
    "w"
   ],
   "outputs": [
    {
     "data": {
      "text/plain": [
       "array([[11, 12],\n",
       "       [13, 14],\n",
       "       [15, 16]])"
      ]
     },
     "execution_count": 13,
     "metadata": {},
     "output_type": "execute_result"
    }
   ],
   "execution_count": 13
  },
  {
   "cell_type": "markdown",
   "id": "0e62bd09",
   "metadata": {},
   "source": [
    "## Q#6: Create z array contains the numbers from 1 to 3."
   ]
  },
  {
   "cell_type": "code",
   "id": "cee8aba0",
   "metadata": {
    "ExecuteTime": {
     "end_time": "2024-07-30T03:02:43.408002Z",
     "start_time": "2024-07-30T03:02:43.388019Z"
    }
   },
   "source": [
    "# write your code here ^_^\n",
    "z = np.array([1,2,3])\n",
    "z"
   ],
   "outputs": [
    {
     "data": {
      "text/plain": [
       "array([1, 2, 3])"
      ]
     },
     "execution_count": 26,
     "metadata": {},
     "output_type": "execute_result"
    }
   ],
   "execution_count": 26
  },
  {
   "cell_type": "markdown",
   "id": "32b00711",
   "metadata": {},
   "source": [
    "## Q#7: Combine the arrays z and w in horizontal way then save it in a new variable \"newArray\"."
   ]
  },
  {
   "cell_type": "code",
   "id": "d218f892",
   "metadata": {
    "ExecuteTime": {
     "end_time": "2024-07-30T03:16:33.114921Z",
     "start_time": "2024-07-30T03:16:33.087809Z"
    }
   },
   "source": [
    "# write your code here ^_^\n",
    "newArray = np.hstack((w, z.reshape(-1, 1)))\n",
    "newArray"
   ],
   "outputs": [
    {
     "data": {
      "text/plain": [
       "array([[11, 12,  1],\n",
       "       [13, 14,  2],\n",
       "       [15, 16,  3]])"
      ]
     },
     "execution_count": 47,
     "metadata": {},
     "output_type": "execute_result"
    }
   ],
   "execution_count": 47
  },
  {
   "cell_type": "markdown",
   "id": "7e009910",
   "metadata": {},
   "source": [
    "## Q#8: Print all elements of \"newArray\" using the loop."
   ]
  },
  {
   "cell_type": "code",
   "id": "abbed923",
   "metadata": {
    "ExecuteTime": {
     "end_time": "2024-07-30T03:16:38.251204Z",
     "start_time": "2024-07-30T03:16:38.235970Z"
    }
   },
   "source": [
    "# write your code here ^_^\n",
    "for i in newArray:\n",
    "    print(i)"
   ],
   "outputs": [
    {
     "name": "stdout",
     "output_type": "stream",
     "text": [
      "[11 12  1]\n",
      "[13 14  2]\n",
      "[15 16  3]\n"
     ]
    }
   ],
   "execution_count": 48
  },
  {
   "cell_type": "markdown",
   "id": "011c6d2d",
   "metadata": {},
   "source": [
    "## Q#9: Reverse the columns and rows of \"newArray\"."
   ]
  },
  {
   "cell_type": "code",
   "id": "12e3f0db",
   "metadata": {
    "ExecuteTime": {
     "end_time": "2024-07-30T03:16:41.853039Z",
     "start_time": "2024-07-30T03:16:41.831941Z"
    }
   },
   "source": [
    "# write your code here ^_^\n",
    "newArray = newArray.T\n",
    "newArray"
   ],
   "outputs": [
    {
     "data": {
      "text/plain": [
       "array([[11, 13, 15],\n",
       "       [12, 14, 16],\n",
       "       [ 1,  2,  3]])"
      ]
     },
     "execution_count": 49,
     "metadata": {},
     "output_type": "execute_result"
    }
   ],
   "execution_count": 49
  },
  {
   "cell_type": "markdown",
   "id": "f40b57c3",
   "metadata": {},
   "source": [
    "## Q#10: Decrement all elements of \"newArray\" with 1."
   ]
  },
  {
   "cell_type": "code",
   "id": "aea004df",
   "metadata": {
    "ExecuteTime": {
     "end_time": "2024-07-30T03:16:45.558095Z",
     "start_time": "2024-07-30T03:16:45.536034Z"
    }
   },
   "source": [
    "# write your code here ^_^\n",
    "newArray = newArray - 1\n",
    "newArray\n"
   ],
   "outputs": [
    {
     "data": {
      "text/plain": [
       "array([[10, 12, 14],\n",
       "       [11, 13, 15],\n",
       "       [ 0,  1,  2]])"
      ]
     },
     "execution_count": 50,
     "metadata": {},
     "output_type": "execute_result"
    }
   ],
   "execution_count": 50
  },
  {
   "cell_type": "markdown",
   "id": "8901e8be",
   "metadata": {},
   "source": [
    "## Q#11: Find smallest and biggest values in \"newArray\"."
   ]
  },
  {
   "cell_type": "code",
   "id": "4ea08613",
   "metadata": {
    "ExecuteTime": {
     "end_time": "2024-07-30T03:17:28.392769Z",
     "start_time": "2024-07-30T03:17:28.370717Z"
    }
   },
   "source": [
    "# write your code here ^_^\n",
    "newArray.max()\n",
    "newArray.min()\n"
   ],
   "outputs": [
    {
     "data": {
      "text/plain": [
       "0"
      ]
     },
     "execution_count": 52,
     "metadata": {},
     "output_type": "execute_result"
    }
   ],
   "execution_count": 52
  },
  {
   "cell_type": "markdown",
   "id": "c5d5d4ca",
   "metadata": {},
   "source": [
    "## Q#12: Print the first row of \"newArray\" using indexing."
   ]
  },
  {
   "cell_type": "code",
   "id": "73e3b5a5",
   "metadata": {
    "ExecuteTime": {
     "end_time": "2024-07-30T03:21:56.023222Z",
     "start_time": "2024-07-30T03:21:56.006647Z"
    }
   },
   "source": [
    "# write your code here ^_^\n",
    "newArray[0]"
   ],
   "outputs": [
    {
     "data": {
      "text/plain": [
       "array([10, 12, 14])"
      ]
     },
     "execution_count": 55,
     "metadata": {},
     "output_type": "execute_result"
    }
   ],
   "execution_count": 55
  },
  {
   "cell_type": "markdown",
   "id": "78f4d6c1",
   "metadata": {},
   "source": [
    "## Q#13: Print the number equals 12 of \"newArray\" using indexing."
   ]
  },
  {
   "cell_type": "code",
   "id": "7ad660b7",
   "metadata": {
    "ExecuteTime": {
     "end_time": "2024-07-30T03:23:17.569766Z",
     "start_time": "2024-07-30T03:23:17.556031Z"
    }
   },
   "source": [
    "# write your code here ^_^\n",
    "newArray[0,1]"
   ],
   "outputs": [
    {
     "data": {
      "text/plain": [
       "12"
      ]
     },
     "execution_count": 57,
     "metadata": {},
     "output_type": "execute_result"
    }
   ],
   "execution_count": 57
  },
  {
   "cell_type": "markdown",
   "id": "932b5c3d",
   "metadata": {},
   "source": [
    "## Q#14: Print the numbers equal 0 and 13 of \"newArray\" using indexing."
   ]
  },
  {
   "cell_type": "code",
   "id": "31fb5fd0",
   "metadata": {
    "ExecuteTime": {
     "end_time": "2024-07-30T03:23:44.176496Z",
     "start_time": "2024-07-30T03:23:44.154393Z"
    }
   },
   "source": [
    "# write your code here ^_^\n",
    "newArray[2,0]\n",
    "newArray[1,1]"
   ],
   "outputs": [
    {
     "data": {
      "text/plain": [
       "0"
      ]
     },
     "execution_count": 59,
     "metadata": {},
     "output_type": "execute_result"
    }
   ],
   "execution_count": 59
  },
  {
   "cell_type": "markdown",
   "id": "27e0f68e",
   "metadata": {},
   "source": [
    "## Q#15: Change the shape of \"newArray\" to (9,1)."
   ]
  },
  {
   "cell_type": "code",
   "id": "35f224ad",
   "metadata": {
    "ExecuteTime": {
     "end_time": "2024-07-30T03:24:32.036692Z",
     "start_time": "2024-07-30T03:24:32.026008Z"
    }
   },
   "source": [
    "# write your code here ^_^\n",
    "newArray = newArray.reshape(9,1)\n",
    "newArray"
   ],
   "outputs": [
    {
     "data": {
      "text/plain": [
       "array([[10],\n",
       "       [12],\n",
       "       [14],\n",
       "       [11],\n",
       "       [13],\n",
       "       [15],\n",
       "       [ 0],\n",
       "       [ 1],\n",
       "       [ 2]])"
      ]
     },
     "execution_count": 60,
     "metadata": {},
     "output_type": "execute_result"
    }
   ],
   "execution_count": 60
  },
  {
   "cell_type": "markdown",
   "id": "e6d104c5",
   "metadata": {},
   "source": [
    "## Q#16: Change the shape of \"newArray\" to (3,2)."
   ]
  },
  {
   "cell_type": "code",
   "id": "724d51d5",
   "metadata": {
    "ExecuteTime": {
     "end_time": "2024-07-30T03:25:01.117098Z",
     "start_time": "2024-07-30T03:25:01.089122Z"
    }
   },
   "source": [
    "# write your code here ^_^\n",
    "newArray = newArray.reshape(3,2)\n",
    "newArray\n",
    "#cannot reshape array of size 9 into shape (3,2) it can't be done because they have diff sizes "
   ],
   "outputs": [
    {
     "ename": "ValueError",
     "evalue": "cannot reshape array of size 9 into shape (3,2)",
     "output_type": "error",
     "traceback": [
      "\u001B[1;31m---------------------------------------------------------------------------\u001B[0m",
      "\u001B[1;31mValueError\u001B[0m                                Traceback (most recent call last)",
      "Cell \u001B[1;32mIn[61], line 2\u001B[0m\n\u001B[0;32m      1\u001B[0m \u001B[38;5;66;03m# write your code here ^_^\u001B[39;00m\n\u001B[1;32m----> 2\u001B[0m newArray \u001B[38;5;241m=\u001B[39m \u001B[43mnewArray\u001B[49m\u001B[38;5;241;43m.\u001B[39;49m\u001B[43mreshape\u001B[49m\u001B[43m(\u001B[49m\u001B[38;5;241;43m3\u001B[39;49m\u001B[43m,\u001B[49m\u001B[38;5;241;43m2\u001B[39;49m\u001B[43m)\u001B[49m\n\u001B[0;32m      3\u001B[0m newArray\n",
      "\u001B[1;31mValueError\u001B[0m: cannot reshape array of size 9 into shape (3,2)"
     ]
    }
   ],
   "execution_count": 61
  },
  {
   "cell_type": "markdown",
   "id": "09567fdc",
   "metadata": {},
   "source": [
    "# Well Done 🎉"
   ]
  }
 ],
 "metadata": {
  "kernelspec": {
   "display_name": "Python 3 (ipykernel)",
   "language": "python",
   "name": "python3"
  },
  "language_info": {
   "codemirror_mode": {
    "name": "ipython",
    "version": 3
   },
   "file_extension": ".py",
   "mimetype": "text/x-python",
   "name": "python",
   "nbconvert_exporter": "python",
   "pygments_lexer": "ipython3",
   "version": "3.9.12"
  }
 },
 "nbformat": 4,
 "nbformat_minor": 5
}
