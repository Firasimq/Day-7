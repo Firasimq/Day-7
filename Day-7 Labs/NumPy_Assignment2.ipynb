{
 "cells": [
  {
   "cell_type": "markdown",
   "id": "5ffb93ae",
   "metadata": {},
   "source": [
    "# Q1: Import numpy library"
   ]
  },
  {
   "cell_type": "code",
   "id": "936d4703",
   "metadata": {
    "ExecuteTime": {
     "end_time": "2024-07-30T04:14:38.738368Z",
     "start_time": "2024-07-30T04:14:38.720100Z"
    }
   },
   "source": [
    "# write your code here ^_^\n",
    "import numpy as np"
   ],
   "outputs": [],
   "execution_count": 43
  },
  {
   "cell_type": "markdown",
   "id": "b6991a89",
   "metadata": {},
   "source": [
    "# Q2: Generate a sequence of 15 floats using linspace() function"
   ]
  },
  {
   "cell_type": "code",
   "id": "43bf04a5",
   "metadata": {
    "ExecuteTime": {
     "end_time": "2024-07-30T03:33:00.591534Z",
     "start_time": "2024-07-30T03:33:00.582285Z"
    }
   },
   "source": [
    "# write your code here ^_^\n",
    "a = np.linspace(0, 1, 15)\n",
    "a"
   ],
   "outputs": [
    {
     "data": {
      "text/plain": [
       "array([0.        , 0.07142857, 0.14285714, 0.21428571, 0.28571429,\n",
       "       0.35714286, 0.42857143, 0.5       , 0.57142857, 0.64285714,\n",
       "       0.71428571, 0.78571429, 0.85714286, 0.92857143, 1.        ])"
      ]
     },
     "execution_count": 9,
     "metadata": {},
     "output_type": "execute_result"
    }
   ],
   "execution_count": 9
  },
  {
   "cell_type": "markdown",
   "id": "7144bba8",
   "metadata": {},
   "source": [
    "# Q3: Create a 3-D array in shape (2, 2, 3) containing the four arrays given below \n",
    "Note : the array's name is up to you.\n",
    "\n",
    "|      |       |          |         |\n",
    "|------| ----- | -------- | ------- |\n",
    "|arr1 | 1.1    | 2.1       | 3.1        |\n",
    "|arr2 | 4.1    | 5.1       | 6.1        |\n",
    "|arr3 | 7.1    | 8.1       | 9.1        |\n",
    "|arr4 | 10.1   | 11.1      | 12.1       |"
   ]
  },
  {
   "cell_type": "code",
   "id": "c1c3f9dc",
   "metadata": {
    "ExecuteTime": {
     "end_time": "2024-07-30T03:47:10.994634Z",
     "start_time": "2024-07-30T03:47:10.966975Z"
    }
   },
   "source": [
    "# write your code here ^_^\n",
    "arr1  = np.array([1.1, 2.1, 3.1])\n",
    "arr2  = np.array([4.1, 5.1, 6.1])\n",
    "arr3  = np.array([7.1, 8.1, 9.1])\n",
    "arr4  = np.array([10.1, 11.1, 12.1])\n",
    "arr1234 = np.array(([[arr1, arr2], [arr3, arr4]]))\n",
    "arr1234.shape\n"
   ],
   "outputs": [
    {
     "data": {
      "text/plain": [
       "(2, 2, 3)"
      ]
     },
     "execution_count": 20,
     "metadata": {},
     "output_type": "execute_result"
    }
   ],
   "execution_count": 20
  },
  {
   "cell_type": "markdown",
   "id": "807acbf6",
   "metadata": {},
   "source": [
    "# Q4: Print the following:\n",
    "Note: use the same array from Q3.\n",
    "- Array's type.\n",
    "- Array's elements datatype.\n",
    "- Array's shape.\n",
    "- Array's size.\n",
    "- Array's dimention."
   ]
  },
  {
   "cell_type": "code",
   "id": "6e90d6a0",
   "metadata": {
    "ExecuteTime": {
     "end_time": "2024-07-30T04:06:01.714623Z",
     "start_time": "2024-07-30T04:06:01.688977Z"
    }
   },
   "source": [
    "# write your code here ^_^\n",
    "type(arr1234)\n",
    "arr1234.dtype\n",
    "arr1234.shape\n",
    "arr1234.size\n",
    "arr1234.ndim\n"
   ],
   "outputs": [
    {
     "data": {
      "text/plain": [
       "3"
      ]
     },
     "execution_count": 40,
     "metadata": {},
     "output_type": "execute_result"
    }
   ],
   "execution_count": 40
  },
  {
   "cell_type": "markdown",
   "id": "db4958b5",
   "metadata": {},
   "source": [
    "# Q5:  Change the array dimention from 3-D to 4-D\n",
    "Note: use the same array from Q3.\n",
    "- Create a new array to hold the changes. \n",
    "- Print the new array's dimention and shape."
   ]
  },
  {
   "cell_type": "code",
   "id": "e9f5c88c",
   "metadata": {
    "ExecuteTime": {
     "end_time": "2024-07-30T04:23:47.679003Z",
     "start_time": "2024-07-30T04:23:47.660230Z"
    }
   },
   "source": [
    "# write your code here ^_^\n",
    "arr1234_4d = np.reshape(arr1234, (4, 3))\n",
    "arr1234_4d\n"
   ],
   "outputs": [
    {
     "data": {
      "text/plain": [
       "2"
      ]
     },
     "execution_count": 56,
     "metadata": {},
     "output_type": "execute_result"
    }
   ],
   "execution_count": 56
  },
  {
   "cell_type": "markdown",
   "id": "454f2504",
   "metadata": {},
   "source": [
    "# Q6: Change the array's elements datatype to integer  \n",
    "Note: use the same array from Q5.\n",
    "\n",
    "- Create a new array to hold the changes. \n",
    "- Print the new array."
   ]
  },
  {
   "cell_type": "code",
   "id": "8135b045",
   "metadata": {
    "ExecuteTime": {
     "end_time": "2024-07-30T04:26:04.946316Z",
     "start_time": "2024-07-30T04:26:04.922309Z"
    }
   },
   "source": [
    "# write your code here ^_^\n",
    "arr_int = arr1234_4d.astype(int)\n",
    "arr_int"
   ],
   "outputs": [
    {
     "data": {
      "text/plain": [
       "array([[ 1,  2,  3],\n",
       "       [ 4,  5,  6],\n",
       "       [ 7,  8,  9],\n",
       "       [10, 11, 12]])"
      ]
     },
     "execution_count": 57,
     "metadata": {},
     "output_type": "execute_result"
    }
   ],
   "execution_count": 57
  },
  {
   "cell_type": "markdown",
   "id": "ab90badc",
   "metadata": {},
   "source": [
    "# Q7: Print all array's elements using for loop\n",
    "Note: use the same array from Q6.\n",
    "\n",
    "Hint: use nditer()"
   ]
  },
  {
   "cell_type": "code",
   "id": "a0d58d15",
   "metadata": {
    "ExecuteTime": {
     "end_time": "2024-07-30T04:29:30.876360Z",
     "start_time": "2024-07-30T04:29:30.862676Z"
    }
   },
   "source": [
    "# write your code here ^_^\n",
    "arr_nd =  np.nditer(arr_int)\n",
    "\n",
    "# Iterate over the array and print each element\n",
    "for i in arr_nd:\n",
    "    print(i)"
   ],
   "outputs": [
    {
     "name": "stdout",
     "output_type": "stream",
     "text": [
      "1\n",
      "2\n",
      "3\n",
      "4\n",
      "5\n",
      "6\n",
      "7\n",
      "8\n",
      "9\n",
      "10\n",
      "11\n",
      "12\n"
     ]
    }
   ],
   "execution_count": 58
  },
  {
   "cell_type": "markdown",
   "id": "afa8b5f3",
   "metadata": {},
   "source": [
    "# Q8:  Print number 8 using array slicing\n",
    "Note: use the same array from Q6."
   ]
  },
  {
   "cell_type": "code",
   "id": "6e12e2d7",
   "metadata": {
    "ExecuteTime": {
     "end_time": "2024-07-30T04:38:43.682471Z",
     "start_time": "2024-07-30T04:38:43.667323Z"
    }
   },
   "source": [
    "# write your code here ^_^\n",
    "arr_int[2,1]"
   ],
   "outputs": [
    {
     "data": {
      "text/plain": [
       "8"
      ]
     },
     "execution_count": 79,
     "metadata": {},
     "output_type": "execute_result"
    }
   ],
   "execution_count": 79
  },
  {
   "cell_type": "markdown",
   "id": "e2e71895",
   "metadata": {},
   "source": [
    "# Q9: Print number 5 and number 6 using array slicing\n",
    "Note: use the same array from Q6."
   ]
  },
  {
   "cell_type": "code",
   "id": "c3218bcb",
   "metadata": {
    "ExecuteTime": {
     "end_time": "2024-07-30T04:39:16.646941Z",
     "start_time": "2024-07-30T04:39:16.633409Z"
    }
   },
   "source": [
    "# write your code here ^_^\n",
    "arr_int[1,1]\n",
    "arr_int[1,2]"
   ],
   "outputs": [
    {
     "data": {
      "text/plain": [
       "6"
      ]
     },
     "execution_count": 82,
     "metadata": {},
     "output_type": "execute_result"
    }
   ],
   "execution_count": 82
  },
  {
   "cell_type": "markdown",
   "id": "e5d63cd3",
   "metadata": {},
   "source": [
    "# Q10: Search for number 8 using where()\n",
    "Note: use the same array from Q6.\n",
    "\n",
    "Note: where() is only used with small data.\n",
    "\n",
    "*the output represents the path of the index that leads to number 8*"
   ]
  },
  {
   "cell_type": "code",
   "id": "ddaf0146",
   "metadata": {
    "ExecuteTime": {
     "end_time": "2024-07-30T04:45:57.687402Z",
     "start_time": "2024-07-30T04:45:57.669884Z"
    }
   },
   "source": [
    "# write your code here ^_^\n",
    "path = np.where(arr_int == 8)\n",
    "\n",
    "path"
   ],
   "outputs": [
    {
     "data": {
      "text/plain": [
       "(array([2], dtype=int64), array([1], dtype=int64))"
      ]
     },
     "execution_count": 90,
     "metadata": {},
     "output_type": "execute_result"
    }
   ],
   "execution_count": 90
  },
  {
   "cell_type": "markdown",
   "id": "c89f41ad",
   "metadata": {},
   "source": [
    "# Q11: Reshape the array as the following\n",
    "\n",
    "    array([[[ 1, 2],\n",
    "            [ 3,  4],\n",
    "            [ 5,  6]],\n",
    "\n",
    "           [[ 7,  8],\n",
    "            [ 9, 10],\n",
    "            [11, 12]]])\n",
    "            \n",
    " Note: use the same array from Q6."
   ]
  },
  {
   "cell_type": "code",
   "id": "d9b632bd",
   "metadata": {
    "ExecuteTime": {
     "end_time": "2024-07-30T04:50:58.024204Z",
     "start_time": "2024-07-30T04:50:57.998640Z"
    }
   },
   "source": [
    "# write your code here ^_^\n",
    "arr_int_3d= arr_int.reshape(2,2,3)\n",
    "arr_int_3d"
   ],
   "outputs": [
    {
     "data": {
      "text/plain": [
       "array([[[ 1,  2,  3],\n",
       "        [ 4,  5,  6]],\n",
       "\n",
       "       [[ 7,  8,  9],\n",
       "        [10, 11, 12]]])"
      ]
     },
     "execution_count": 95,
     "metadata": {},
     "output_type": "execute_result"
    }
   ],
   "execution_count": 95
  },
  {
   "cell_type": "markdown",
   "id": "539c16b1",
   "metadata": {},
   "source": [
    "# Q12: Join the given arrays below \n",
    "    arr1 = np.array([['A', 'B'], ['E', 'F']])\n",
    "    arr2 = np.array([['C', 'D'], ['G', 'H']])\n",
    "## Q12.1: Join the arrays without specifying the axis "
   ]
  },
  {
   "cell_type": "code",
   "id": "d6acdeaf",
   "metadata": {
    "ExecuteTime": {
     "end_time": "2024-07-30T05:04:33.183207Z",
     "start_time": "2024-07-30T05:04:33.176345Z"
    }
   },
   "source": [
    "# write your code here ^_^\n",
    "arr11 = np.array([['A', 'B'], ['E', 'F']])\n",
    "arr22 = np.array([['C', 'D'], ['G', 'H']])\n",
    "arr_join= np.concatenate((arr11,arr22), axis=0)\n",
    "arr_join\n",
    "\n",
    "#Q12.1\n",
    "arr_join2= np.concatenate((arr11,arr22))\n",
    "arr_join2"
   ],
   "outputs": [
    {
     "data": {
      "text/plain": [
       "array([['A', 'B'],\n",
       "       ['E', 'F'],\n",
       "       ['C', 'D'],\n",
       "       ['G', 'H']], dtype='<U1')"
      ]
     },
     "execution_count": 110,
     "metadata": {},
     "output_type": "execute_result"
    }
   ],
   "execution_count": 110
  },
  {
   "cell_type": "markdown",
   "id": "1a37dd47",
   "metadata": {},
   "source": [
    "# Q12.2: Join the arrays along rows with axis = 1 "
   ]
  },
  {
   "cell_type": "code",
   "id": "b849658c",
   "metadata": {
    "ExecuteTime": {
     "end_time": "2024-07-30T04:58:52.457589Z",
     "start_time": "2024-07-30T04:58:52.448637Z"
    }
   },
   "source": [
    "# write your code here ^_^\n",
    "arr_join3= np.concatenate((arr11,arr22), axis=1)\n",
    "arr_join3"
   ],
   "outputs": [
    {
     "data": {
      "text/plain": [
       "array([['A', 'B', 'C', 'D'],\n",
       "       ['E', 'F', 'G', 'H']], dtype='<U1')"
      ]
     },
     "execution_count": 102,
     "metadata": {},
     "output_type": "execute_result"
    }
   ],
   "execution_count": 102
  },
  {
   "cell_type": "markdown",
   "id": "7296eecf",
   "metadata": {},
   "source": [
    "# Q13: Split the array into two arrays with axis = 1, each array should contain four arrays. \n",
    "Note: use the same array from Q12.1"
   ]
  },
  {
   "cell_type": "code",
   "id": "7f7f5e49",
   "metadata": {
    "ExecuteTime": {
     "end_time": "2024-07-30T05:05:43.895536Z",
     "start_time": "2024-07-30T05:05:43.866662Z"
    }
   },
   "source": [
    "# write your code here ^_^\n",
    "arr_split= np.split(arr_join2,4, axis=1)\n",
    "arr_split\n"
   ],
   "outputs": [
    {
     "ename": "ValueError",
     "evalue": "array split does not result in an equal division",
     "output_type": "error",
     "traceback": [
      "\u001B[1;31m---------------------------------------------------------------------------\u001B[0m",
      "\u001B[1;31mValueError\u001B[0m                                Traceback (most recent call last)",
      "Cell \u001B[1;32mIn[111], line 2\u001B[0m\n\u001B[0;32m      1\u001B[0m \u001B[38;5;66;03m# write your code here ^_^\u001B[39;00m\n\u001B[1;32m----> 2\u001B[0m arr_split\u001B[38;5;241m=\u001B[39m \u001B[43mnp\u001B[49m\u001B[38;5;241;43m.\u001B[39;49m\u001B[43msplit\u001B[49m\u001B[43m(\u001B[49m\u001B[43marr_join2\u001B[49m\u001B[43m,\u001B[49m\u001B[38;5;241;43m4\u001B[39;49m\u001B[43m,\u001B[49m\u001B[43m \u001B[49m\u001B[43maxis\u001B[49m\u001B[38;5;241;43m=\u001B[39;49m\u001B[38;5;241;43m1\u001B[39;49m\u001B[43m)\u001B[49m\n\u001B[0;32m      3\u001B[0m arr_split\n",
      "File \u001B[1;32m~\\anaconda3\\Lib\\site-packages\\numpy\\lib\\shape_base.py:864\u001B[0m, in \u001B[0;36msplit\u001B[1;34m(ary, indices_or_sections, axis)\u001B[0m\n\u001B[0;32m    862\u001B[0m     N \u001B[38;5;241m=\u001B[39m ary\u001B[38;5;241m.\u001B[39mshape[axis]\n\u001B[0;32m    863\u001B[0m     \u001B[38;5;28;01mif\u001B[39;00m N \u001B[38;5;241m%\u001B[39m sections:\n\u001B[1;32m--> 864\u001B[0m         \u001B[38;5;28;01mraise\u001B[39;00m \u001B[38;5;167;01mValueError\u001B[39;00m(\n\u001B[0;32m    865\u001B[0m             \u001B[38;5;124m'\u001B[39m\u001B[38;5;124marray split does not result in an equal division\u001B[39m\u001B[38;5;124m'\u001B[39m) \u001B[38;5;28;01mfrom\u001B[39;00m \u001B[38;5;28;01mNone\u001B[39;00m\n\u001B[0;32m    866\u001B[0m \u001B[38;5;28;01mreturn\u001B[39;00m array_split(ary, indices_or_sections, axis)\n",
      "\u001B[1;31mValueError\u001B[0m: array split does not result in an equal division"
     ]
    }
   ],
   "execution_count": 111
  }
 ],
 "metadata": {
  "kernelspec": {
   "display_name": "Python 3 (ipykernel)",
   "language": "python",
   "name": "python3"
  },
  "language_info": {
   "codemirror_mode": {
    "name": "ipython",
    "version": 3
   },
   "file_extension": ".py",
   "mimetype": "text/x-python",
   "name": "python",
   "nbconvert_exporter": "python",
   "pygments_lexer": "ipython3",
   "version": "3.9.12"
  }
 },
 "nbformat": 4,
 "nbformat_minor": 5
}
